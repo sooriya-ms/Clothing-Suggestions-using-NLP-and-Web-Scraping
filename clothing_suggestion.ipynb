{
 "cells": [
  {
   "attachments": {},
   "cell_type": "markdown",
   "metadata": {},
   "source": [
    "# Clothing Suggestion using NLP"
   ]
  },
  {
   "attachments": {},
   "cell_type": "markdown",
   "metadata": {},
   "source": [
    "## Complete Working Code"
   ]
  },
  {
   "cell_type": "code",
   "execution_count": 6,
   "metadata": {},
   "outputs": [
    {
     "name": "stdout",
     "output_type": "stream",
     "text": [
      "1 :   Green V Neck Blouse \t\t https://www.faballey.com/green-v-neck-blouse-78/prdt\n",
      "2 :   Green Lace Strappy Belted Peplum Top \t\t https://www.faballey.com/green-lace-strappy-belted-peplum-top-78/prdt\n",
      "3 :   Green Lace Smocked Waist Crop Top \t\t https://www.faballey.com/green-lace-smocked-waist-crop-top-78/prdt\n",
      "4 :   Green Floral Print Puff Sleeve Blouse \t\t https://www.faballey.com/green-floral-print-puff-sleeve-blouse-78/prdt\n",
      "5 :   Light Green Collared Satin Shirt \t\t https://www.faballey.com/light-green-collared-satin-shirt-78/prdt\n",
      "6 :   Purple Embellished Strappy Top \t\t https://www.faballey.com/purple-embellished-strappy-top-78/prdt\n",
      "7 :   Wine Polka Frilled Sleeve Crop Top \t\t https://www.faballey.com/wine-polka-frilled-sleeve-crop-top-78/prdt\n",
      "8 :   Peach Frilled Sleeve Crop Top \t\t https://www.faballey.com/peach-frilled-sleeve-crop-top-78/prdt\n",
      "9 :   Purple Tie Dye Smocked Peplum Top \t\t https://www.faballey.com/purple-tie-dye-frilled-sleeve-smocked-peplum-top-78/prdt\n",
      "10 :   Blue Frilled Sleeve Back Tie Top \t\t https://www.faballey.com/blue-frilled-sleeve-back-tie-top-78/prdt\n"
     ]
    },
    {
     "name": "stderr",
     "output_type": "stream",
     "text": [
      "[nltk_data] Downloading package stopwords to\n",
      "[nltk_data]     C:\\Users\\soori\\AppData\\Roaming\\nltk_data...\n",
      "[nltk_data]   Package stopwords is already up-to-date!\n"
     ]
    }
   ],
   "source": [
    "import nltk\n",
    "from nltk.corpus import stopwords\n",
    "from sklearn.feature_extraction.text import TfidfVectorizer\n",
    "from sklearn.metrics.pairwise import cosine_similarity\n",
    "import string\n",
    "import pandas as pd\n",
    "import numpy as np \n",
    "\n",
    "def clothingSuggestion(text):\n",
    "    df = pd.read_csv('dataset.csv')\n",
    "\n",
    "    processed_desc = []\n",
    "    for k in range(len(df.desc)):\n",
    "        processed_desc.append(\"\".join(i for i in df.desc[k] if i not in string.punctuation))\n",
    "\n",
    "    df.insert(2, \"processed_desc\", processed_desc, True)\n",
    "\n",
    "    corpus = df.processed_desc\n",
    "\n",
    "    nltk.download('stopwords')      # Download the stop words like (the, an, and, or, etc)\n",
    "    stop_words = set(stopwords.words('english'))\n",
    "\n",
    "    # Convert to lowercase\n",
    "    text = text.lower()\n",
    "\n",
    "    # Remove punctuation and special characters (assuming 'text' is a single sentence)\n",
    "    text = ''.join(char for char in text if char.isalnum() or char.isspace())\n",
    "\n",
    "    # Remove stopwords\n",
    "    words = text.split()\n",
    "    words = [word for word in words if word not in stop_words]\n",
    "\n",
    "    # Join the processed words back into a sentence\n",
    "    processed_text = ' '.join(words)\n",
    "\n",
    "    # Preprocess the input sentence\n",
    "    processed_input = processed_text\n",
    "\n",
    "\n",
    "    # Create a TF-IDF vectorizer\n",
    "    vectorizer = TfidfVectorizer()\n",
    "    corpus_vectors = vectorizer.fit_transform(corpus)\n",
    "\n",
    "    # Vectorize the processed input sentence\n",
    "    input_vector = vectorizer.transform([processed_input])\n",
    "\n",
    "    # Similarity Modeling\n",
    "    similarity_scores = cosine_similarity(corpus_vectors, input_vector)\n",
    "\n",
    "    sim_scores = []\n",
    "    for i in similarity_scores:\n",
    "        sim_scores.append(i[0])\n",
    "\n",
    "    df.insert(2, \"similarity\", sim_scores, True)\n",
    "\n",
    "    # Sorting by column 'similarity'\n",
    "    df.sort_values(by=['similarity'], ascending=False, inplace=True)\n",
    "\n",
    "    rank = 1\n",
    "    # Print the top similar rows\n",
    "    for i in range(0,10):\n",
    "        print(rank, \":  \", df.iloc[i, 0],\"\\t\\t\", df.iloc[i, 4])\n",
    "        rank += 1\n",
    "\n",
    "clothingSuggestion(input())\n"
   ]
  },
  {
   "cell_type": "code",
   "execution_count": null,
   "metadata": {},
   "outputs": [],
   "source": []
  },
  {
   "cell_type": "code",
   "execution_count": null,
   "metadata": {},
   "outputs": [],
   "source": []
  },
  {
   "cell_type": "code",
   "execution_count": null,
   "metadata": {},
   "outputs": [],
   "source": []
  },
  {
   "attachments": {},
   "cell_type": "markdown",
   "metadata": {},
   "source": [
    "## Detailed Explanation"
   ]
  },
  {
   "attachments": {},
   "cell_type": "markdown",
   "metadata": {},
   "source": [
    "Import required libraries"
   ]
  },
  {
   "cell_type": "code",
   "execution_count": 7,
   "metadata": {},
   "outputs": [],
   "source": [
    "import nltk\n",
    "from nltk.corpus import stopwords\n",
    "from sklearn.feature_extraction.text import TfidfVectorizer\n",
    "from sklearn.metrics.pairwise import cosine_similarity\n",
    "import string\n",
    "import pandas as pd\n",
    "import numpy as np"
   ]
  },
  {
   "attachments": {},
   "cell_type": "markdown",
   "metadata": {},
   "source": [
    "Preprocessing"
   ]
  },
  {
   "cell_type": "code",
   "execution_count": 8,
   "metadata": {},
   "outputs": [
    {
     "name": "stderr",
     "output_type": "stream",
     "text": [
      "[nltk_data] Downloading package stopwords to\n",
      "[nltk_data]     C:\\Users\\soori\\AppData\\Roaming\\nltk_data...\n",
      "[nltk_data]   Package stopwords is already up-to-date!\n"
     ]
    }
   ],
   "source": [
    "# Preprocessing\n",
    "\n",
    "nltk.download('stopwords')      # Download the stop words like (the, an, and, or, etc)\n",
    "stop_words = set(stopwords.words('english'))\n",
    "\n",
    "def preprocess_text(text):\n",
    "    # Convert to lowercase\n",
    "    text = text.lower()\n",
    "    \n",
    "    # Remove punctuation and special characters (assuming 'text' is a single sentence)\n",
    "    text = ''.join(char for char in text if char.isalnum() or char.isspace())\n",
    "    \n",
    "    # Remove stopwords\n",
    "    words = text.split()\n",
    "    words = [word for word in words if word not in stop_words]\n",
    "    \n",
    "    # Join the processed words back into a sentence\n",
    "    processed_text = ' '.join(words)\n",
    "    \n",
    "    return processed_text"
   ]
  },
  {
   "attachments": {},
   "cell_type": "markdown",
   "metadata": {},
   "source": [
    "Load the dataset and preprocess it"
   ]
  },
  {
   "cell_type": "code",
   "execution_count": 9,
   "metadata": {},
   "outputs": [],
   "source": [
    "df = pd.read_csv('dataset.csv')\n",
    "\n",
    "processed_desc = []\n",
    "for k in range(len(df.desc)):\n",
    "    processed_desc.append(\"\".join(i for i in df.desc[k] if i not in string.punctuation))\n",
    "\n",
    "df.insert(2, \"processed_desc\", processed_desc, True)\n",
    "\n",
    "corpus = df.processed_desc"
   ]
  },
  {
   "cell_type": "code",
   "execution_count": 10,
   "metadata": {},
   "outputs": [
    {
     "name": "stdout",
     "output_type": "stream",
     "text": [
      "white color top\n"
     ]
    }
   ],
   "source": [
    "# Input the collection requrirement that you want\n",
    "input_sentence = input(\"Input the collection requrirement that you want: \")\n",
    "\n",
    "# Preprocess the input sentence\n",
    "processed_input = preprocess_text(input_sentence)\n",
    "print(processed_input)"
   ]
  },
  {
   "cell_type": "code",
   "execution_count": 11,
   "metadata": {},
   "outputs": [
    {
     "name": "stdout",
     "output_type": "stream",
     "text": [
      "1 :   White Off Shoulder Smocked Wrap Top \t\t https://www.faballey.com/white-off-shoulder-smocked-wrap-top-78/prdt\n",
      "2 :   White Self Design Puff Sleeve Top \t\t https://www.faballey.com/white-self-design-puff-sleeve-top-78/prdt\n",
      "3 :   White Schiffli Smocked Crop Top \t\t https://www.faballey.com/white-schiffli-smocked-crop-top-78/prdt\n",
      "4 :   Blue And White Floral Print Top \t\t https://www.faballey.com/blue-and-white-floral-print-linen-top-78/prdt\n",
      "5 :   White Polka Collared Shirt \t\t https://www.faballey.com/white-polka-collared-shirt-78/prdt\n",
      "6 :   Red Puff Sleeve Smocked Top \t\t https://www.faballey.com/red-puff-sleeve-smocked-top-78/prdt\n",
      "7 :   White And Brown Striped Blouse With Belt \t\t https://www.faballey.com/white-and-brown-striped-blouse-with-belt-78/prdt\n",
      "8 :   Purple Tie Dye Smocked Peplum Top \t\t https://www.faballey.com/purple-tie-dye-frilled-sleeve-smocked-peplum-top-78/prdt\n",
      "9 :   Wine Polka Frilled Sleeve Crop Top \t\t https://www.faballey.com/wine-polka-frilled-sleeve-crop-top-78/prdt\n",
      "10 :   Yellow Floral Poplin Puff Sleeve Button Down Shirt \t\t https://www.faballey.com/yellow-floral-poplin-puff-sleeve-button-down-shirt-78/prdt\n"
     ]
    }
   ],
   "source": [
    "# Create a TF-IDF vectorizer\n",
    "vectorizer = TfidfVectorizer()\n",
    "corpus_vectors = vectorizer.fit_transform(corpus)\n",
    "\n",
    "# Vectorize the processed input sentence\n",
    "input_vector = vectorizer.transform([processed_input])\n",
    "\n",
    "# Similarity Modeling\n",
    "similarity_scores = cosine_similarity(corpus_vectors, input_vector)\n",
    "\n",
    "sim_scores = []\n",
    "for i in similarity_scores:\n",
    "    sim_scores.append(i[0])\n",
    "\n",
    "df.insert(2, \"similarity\", sim_scores, True)\n",
    "\n",
    "# Sorting by column 'similarity'\n",
    "df.sort_values(by=['similarity'], ascending=False, inplace=True)\n",
    "\n",
    "rank = 1\n",
    "# Print the top similar rows\n",
    "for i in range(0,10):\n",
    "    print(rank, \":  \", df.iloc[i, 0],\"\\t\\t\", df.iloc[i, 4])\n",
    "    rank += 1\n"
   ]
  },
  {
   "cell_type": "code",
   "execution_count": null,
   "metadata": {},
   "outputs": [],
   "source": []
  }
 ],
 "metadata": {
  "kernelspec": {
   "display_name": "All (3.8)",
   "language": "python",
   "name": "all"
  },
  "language_info": {
   "codemirror_mode": {
    "name": "ipython",
    "version": 3
   },
   "file_extension": ".py",
   "mimetype": "text/x-python",
   "name": "python",
   "nbconvert_exporter": "python",
   "pygments_lexer": "ipython3",
   "version": "3.8.16"
  },
  "orig_nbformat": 4
 },
 "nbformat": 4,
 "nbformat_minor": 2
}
